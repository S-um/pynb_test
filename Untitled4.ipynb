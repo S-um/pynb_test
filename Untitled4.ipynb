{
  "nbformat": 4,
  "nbformat_minor": 0,
  "metadata": {
    "colab": {
      "name": "Untitled4.ipynb",
      "provenance": [],
      "collapsed_sections": [],
      "toc_visible": true,
      "authorship_tag": "ABX9TyPTP5tNeeRD1C8o+j63Puv+",
      "include_colab_link": true
    },
    "kernelspec": {
      "name": "python3",
      "display_name": "Python 3"
    },
    "language_info": {
      "name": "python"
    }
  },
  "cells": [
    {
      "cell_type": "markdown",
      "metadata": {
        "id": "view-in-github",
        "colab_type": "text"
      },
      "source": [
        "<a href=\"https://colab.research.google.com/github/S-um/pynb_test/blob/main/Untitled4.ipynb\" target=\"_parent\"><img src=\"https://colab.research.google.com/assets/colab-badge.svg\" alt=\"Open In Colab\"/></a>"
      ]
    },
    {
      "cell_type": "code",
      "metadata": {
        "id": "Fw6BjxErpGtj"
      },
      "source": [
        "a = 'hello world'"
      ],
      "execution_count": null,
      "outputs": []
    },
    {
      "cell_type": "code",
      "metadata": {
        "id": "17HbdB10svpu",
        "colab": {
          "base_uri": "https://localhost:8080/"
        },
        "outputId": "001fc365-48c1-47a5-9144-65e3dd75b013"
      },
      "source": [
        "b = 'bye asdf'\n",
        "print(\"asdf\")"
      ],
      "execution_count": null,
      "outputs": [
        {
          "output_type": "stream",
          "text": [
            "asdf\n"
          ],
          "name": "stdout"
        }
      ]
    },
    {
      "cell_type": "code",
      "metadata": {
        "id": "BIs50h5uskQd",
        "colab": {
          "base_uri": "https://localhost:8080/"
        },
        "outputId": "9d810f96-40a9-436f-f86c-9a739e791a33"
      },
      "source": [
        "print(a)\n",
        "print(b)"
      ],
      "execution_count": null,
      "outputs": [
        {
          "output_type": "stream",
          "text": [
            "hello world\n",
            "bye asdf\n"
          ],
          "name": "stdout"
        }
      ]
    },
    {
      "cell_type": "code",
      "metadata": {
        "id": "-25cPeMH6TA_",
        "colab": {
          "base_uri": "https://localhost:8080/"
        },
        "outputId": "55dd397a-0eb3-4dc7-a2e6-2d82bf4f0b00"
      },
      "source": [
        ""
      ],
      "execution_count": null,
      "outputs": [
        {
          "output_type": "stream",
          "text": [
            "Untitled.ipynb  Untitled1.ipynb asdfasdf.ipynb\r\n"
          ],
          "name": "stdout"
        }
      ]
    }
  ]
}